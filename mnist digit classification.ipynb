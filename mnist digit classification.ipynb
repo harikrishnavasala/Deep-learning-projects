{
 "cells": [
  {
   "cell_type": "code",
   "execution_count": 1,
   "metadata": {},
   "outputs": [
    {
     "data": {
      "text/plain": [
       "'1.16.4'"
      ]
     },
     "execution_count": 1,
     "metadata": {},
     "output_type": "execute_result"
    }
   ],
   "source": [
    "import numpy as np\n",
    "np.__version__\n"
   ]
  },
  {
   "cell_type": "code",
   "execution_count": 3,
   "metadata": {},
   "outputs": [
    {
     "data": {
      "image/png": "[encoded data removed]",
      "text/plain": [
       "<matplotlib.figure.Figure at 0x195887f0>"
      ]
     },
     "metadata": {},
     "output_type": "display_data"
    }
   ],
   "source": [
    "# importing the mnist model\n",
    "from keras.datasets import mnist\n",
    "import numpy as np\n",
    "# showing some images\n",
    "import matplotlib.pyplot as plt\n",
    "(X_train,y_train),(X_test,y_test) = mnist.load_data()\n",
    "plt.subplot(221)\n",
    "plt.imshow(X_train[0],cmap = plt.get_cmap('gray'))\n",
    "plt.subplot(222)\n",
    "plt.imshow(X_train[1], cmap = plt.get_cmap('gray'))\n",
    "plt.subplot(223)\n",
    "plt.imshow(X_train[2],cmap = plt.get_cmap ('gray'))\n",
    "plt.subplot(224)\n",
    "plt.imshow(X_train[3],cmap = plt.get_cmap('gray'))\n",
    "plt.show()\n",
    "\n",
    "\n",
    "    "
   ]
  },
  {
   "cell_type": "code",
   "execution_count": 4,
   "metadata": {},
   "outputs": [
    {
     "name": "stdout",
     "output_type": "stream",
     "text": [
      "(60000, 28, 28)\n",
      "[5 0 4 ... 5 6 8]\n"
     ]
    }
   ],
   "source": [
    "print(X_train.shape)\n",
    "print(y_train)"
   ]
  },
  {
   "cell_type": "markdown",
   "metadata": {},
   "source": [
    "### Step 2A: Examine the size and image dimenions (not required but good practice)\n",
    "- Check the number of samples, dimenions and whether images are color or grayscale\n",
    "- We see that our training data consist of **60,000** samples of training data, **10,000** samples of test data\n",
    "- Our labels are appropriately sized as well\n",
    "- Our Image dimenions are **28 x 28**, with **no color channels** (i.e. they are grayscale, so no BGR channels)"
   ]
  },
  {
   "cell_type": "code",
   "execution_count": 5,
   "metadata": {},
   "outputs": [
    {
     "name": "stdout",
     "output_type": "stream",
     "text": [
      "initial shape or  number of dimensions in X_train:(60000, 28, 28)\n",
      "number of samples in X_train :60000\n",
      "number of labels in y_train :60000\n",
      "number of samples in X_test :10000\n",
      "number of labels in y_test :10000\n"
     ]
    }
   ],
   "source": [
    "import numpy as np\n",
    "print(\"initial shape or  number of dimensions in X_train:\" + str(X_train.shape))\n",
    "print('number of samples in X_train :' + str(len(X_train)))\n",
    "print('number of labels in y_train :' + str(len(y_train)))\n",
    "print('number of samples in X_test :' + str(len(X_test)))\n",
    "print('number of labels in y_test :' + str(len(y_test)))"
   ]
  },
  {
   "cell_type": "code",
   "execution_count": 6,
   "metadata": {},
   "outputs": [
    {
     "name": "stdout",
     "output_type": "stream",
     "text": [
      "dimension of X_train :(28, 28)\n",
      "labels in y_train :(60000,)\n",
      "dimensions of X_test :(28, 28)\n",
      "labels in y_test :(10000,)\n"
     ]
    }
   ],
   "source": [
    "# it takes only first image\n",
    "print(\"dimension of X_train :\" + str(X_train[0].shape))\n",
    "print(\"labels in y_train :\" + str(y_train.shape))\n",
    "print('dimensions of X_test :' + str(X_test[0].shape))\n",
    "print('labels in y_test :' + str(y_test.shape))"
   ]
  },
  {
   "cell_type": "markdown",
   "metadata": {},
   "source": [
    "### Step 2B - Let's take a look at some of images in this dataset\n",
    "- Using OpenCV\n",
    "- Using Matplotlib"
   ]
  },
  {
   "cell_type": "code",
   "execution_count": 7,
   "metadata": {},
   "outputs": [
    {
     "name": "stdout",
     "output_type": "stream",
     "text": [
      "13\n",
      "3\n",
      "11\n",
      "2\n",
      "27\n",
      "4\n",
      "14\n",
      "26\n",
      "22\n",
      "26\n"
     ]
    }
   ],
   "source": [
    "import numpy as np\n",
    "for i in range(0,10):\n",
    "    a = np.random.randint(0,len(X_train[0]))\n",
    "    print(a)"
   ]
  },
  {
   "cell_type": "code",
   "execution_count": 8,
   "metadata": {},
   "outputs": [
    {
     "name": "stdout",
     "output_type": "stream",
     "text": [
      "[-1.82020456  0.1697089  -1.12324427 -0.71285582 -1.34065285 -2.08063427\n",
      "  0.33079112 -1.75291303  0.61166274  0.99662113]\n",
      "[-0.86494612  0.01037137  1.64285532 -0.66807673 -0.02984865  0.22994851\n",
      " -1.43207225  0.37417699 -0.25896159 -1.3298356 ]\n",
      "[-0.52611899 -0.30999291  1.54749188 -1.15548531  1.02273923  0.16554455\n",
      " -0.65387253 -0.8800884  -0.53214434  1.72142429]\n",
      "[-1.26704237 -1.85980304 -0.11638562 -0.61139861 -0.67585813  1.58190144\n",
      " -0.46772261 -0.56622749 -1.66234912 -1.31073742]\n",
      "[-0.07284502 -1.81778454  0.86266119  0.12833672  1.36567502 -1.07810661\n",
      " -1.34102874  0.88157801  1.33022151  0.55413315]\n",
      "[-0.2754027   0.67020705  0.08369915 -0.09637691 -2.52884806 -0.70606758\n",
      " -0.39008214 -1.13029437 -0.96499822  0.20818387]\n",
      "[-0.28208974 -1.1372542  -1.17882664 -0.20482017  0.90190701  0.37707952\n",
      "  0.05597413 -0.71484321  0.39315285  0.71175829]\n",
      "[ 0.32925465 -1.7005412  -0.07934551 -0.25030024 -1.62275935 -0.96464116\n",
      " -1.63484925 -0.46613965  0.0689876  -1.07788017]\n",
      "[-0.34601945  1.16544644 -0.53065266  0.7380029   0.45780222  1.08001622\n",
      " -2.31980912 -3.4208606  -0.26126964  0.27252031]\n",
      "[-0.68655644 -0.9408493   1.01387782 -1.1273525  -0.44771756  0.23594393\n",
      " -0.29230782  0.98999549  2.01867674  0.26190327]\n"
     ]
    }
   ],
   "source": [
    "import numpy as np\n",
    "for i in range(0,10):\n",
    "    a = np.random.randn(10)\n",
    "    print(a)"
   ]
  },
  {
   "cell_type": "markdown",
   "metadata": {},
   "source": [
    "randn produces both pos and neg floating vallues so we are using randint"
   ]
  },
  {
   "cell_type": "code",
   "execution_count": 9,
   "metadata": {},
   "outputs": [],
   "source": [
    "# now showing images with opencv and numpy\n",
    "import cv2\n",
    "import numpy as np\n",
    "for i in range(0,10):\n",
    "    number = np.random.randint(0,len(X_train[0]))\n",
    "    image = X_train[number]\n",
    "    window_name = 'random samples :' + str(number)\n",
    "    image = cv2.resize(image,(200,200),2)\n",
    "    cv2.imshow(window_name , image)\n",
    "    cv2.waitKey(0)\n",
    "cv2.destroyAllWindows()    "
   ]
  },
  {
   "cell_type": "markdown",
   "metadata": {},
   "source": [
    "# Let's do the same thing but using matplotlib to plot 6 images "
   ]
  },
  {
   "cell_type": "code",
   "execution_count": 10,
   "metadata": {},
   "outputs": [
    {
     "name": "stdout",
     "output_type": "stream",
     "text": [
      "0\n"
     ]
    }
   ],
   "source": [
    "a = np.random.randint(0,10)\n",
    "print(a)"
   ]
  },
  {
   "cell_type": "code",
   "execution_count": 11,
   "metadata": {},
   "outputs": [
    {
     "data": {
      "image/png": "[encoded data removed]",
      "text/plain": [
       "<matplotlib.figure.Figure at 0x19588240>"
      ]
     },
     "metadata": {},
     "output_type": "display_data"
    },
    {
     "data": {
      "image/png": "[encoded data removed]",
      "text/plain": [
       "<matplotlib.figure.Figure at 0xee86630>"
      ]
     },
     "metadata": {},
     "output_type": "display_data"
    },
    {
     "data": {
      "image/png": "[encoded data removed]",
      "text/plain": [
       "<matplotlib.figure.Figure at 0xef35470>"
      ]
     },
     "metadata": {},
     "output_type": "display_data"
    },
    {
     "data": {
      "image/png": "[encoded data removed]",
      "text/plain": [
       "<matplotlib.figure.Figure at 0x154911d0>"
      ]
     },
     "metadata": {},
     "output_type": "display_data"
    },
    {
     "data": {
      "image/png": "[encoded data removed]",
      "text/plain": [
       "<matplotlib.figure.Figure at 0x154e1da0>"
      ]
     },
     "metadata": {},
     "output_type": "display_data"
    },
    {
     "data": {
      "image/png": "[encoded data removed]",
      "text/plain": [
       "<matplotlib.figure.Figure at 0x155433c8>"
      ]
     },
     "metadata": {},
     "output_type": "display_data"
    }
   ],
   "source": [
    "import matplotlib.pyplot as plt\n",
    "# Plots 6 images, note subplot's arugments are nrows,ncols,index\n",
    "# we set the color map to grey since our image dataset is grayscale\n",
    "i = 1\n",
    "for i in range(0,6):\n",
    "    number = np.random.randint(0,len(X_train))\n",
    "    plt.imshow(X_train[number], cmap = plt.get_cmap('gray'))\n",
    "    plt.show()\n",
    "        \n",
    "    "
   ]
  },
  {
   "cell_type": "code",
   "execution_count": 12,
   "metadata": {},
   "outputs": [
    {
     "name": "stdout",
     "output_type": "stream",
     "text": [
      "X_train shape (60000, 28, 28, 1)\n",
      "60000 X_train samples\n",
      "10000 X_test samples\n"
     ]
    }
   ],
   "source": [
    "# lets store number of rows and no of columns\n",
    "img_rows = X_train[0].shape[0]\n",
    "img_cols = X_train[0].shape[1]\n",
    "# Getting our date in the right 'shape' needed for Keras\n",
    "# We need to add a 4th dimenion to our date thereby changing our\n",
    "# Our original image shape of (60000,28,28) to (60000,28,28,1)\n",
    "\n",
    "X_train = X_train.reshape(X_train.shape[0], img_rows, img_cols,1 )\n",
    "X_test = X_test.reshape(X_test.shape[0],img_rows,img_cols,1)\n",
    "\n",
    "# store the shape of a single image\n",
    "input_shape = (28, 28, 1)\n",
    "\n",
    "# change our image type to float 32\n",
    "X_train = X_train.astype('float32')\n",
    "X_test  = X_test.astype('float32')\n",
    "\n",
    "# normalize our data by changing range from (0 to 255 ) to (0 to 1)\n",
    "X_train /= 255\n",
    "X_test /= 255\n",
    "\n",
    "print('X_train shape',X_train.shape)\n",
    "print(X_train.shape[0],'X_train samples')\n",
    "print(X_test.shape[0],'X_test samples')"
   ]
  },
  {
   "cell_type": "markdown",
   "metadata": {},
   "source": [
    "### Step 3B - One Hot Encode Our Labels (Y)"
   ]
  },
  {
   "cell_type": "code",
   "execution_count": 13,
   "metadata": {},
   "outputs": [
    {
     "name": "stdout",
     "output_type": "stream",
     "text": [
      "total no of classes :10\n",
      "10\n"
     ]
    }
   ],
   "source": [
    "from keras.utils import np_utils\n",
    "# lets do one hot encode the outputs\n",
    "y_train = np_utils.to_categorical(y_train)\n",
    "y_test  = np_utils.to_categorical(y_test)\n",
    "\n",
    "print('total no of classes :' + str(y_train.shape[1]))\n",
    "num_classes = y_test.shape[1]\n",
    "num_pixels = X_train.shape[1] * X_train.shape[2]\n",
    "print(num_classes)\n"
   ]
  },
  {
   "cell_type": "code",
   "execution_count": 14,
   "metadata": {},
   "outputs": [
    {
     "data": {
      "text/plain": [
       "array([0., 0., 0., 0., 0., 1., 0., 0., 0., 0.], dtype=float32)"
      ]
     },
     "execution_count": 14,
     "metadata": {},
     "output_type": "execute_result"
    }
   ],
   "source": [
    "y_train[0]"
   ]
  },
  {
   "cell_type": "markdown",
   "metadata": {},
   "source": [
    "### Step 4 - Create Our Model\n",
    "- We're constructing a simple but effective CNN that uses 32 filters of size 3x3\n",
    "- We've added a 2nd CONV layer of 64 filters of the same size 3x2\n",
    "- We then downsample our data to 2x2, here he apply a dropout where p is set to 0.25\n",
    "- We then flatten our Max Pool output that is connected to a Dense/FC layer that has an output size of 128\n",
    "- How we apply a dropout where P is set to 0.5\n",
    "- Thus 128 output is connected to another FC/Dense layer that outputs to the 10 categorical units"
   ]
  },
  {
   "cell_type": "code",
   "execution_count": 15,
   "metadata": {},
   "outputs": [
    {
     "name": "stdout",
     "output_type": "stream",
     "text": [
      "_________________________________________________________________\n",
      "Layer (type)                 Output Shape              Param #   \n",
      "=================================================================\n",
      "conv2d_1 (Conv2D)            (None, 26, 26, 32)        320       \n",
      "_________________________________________________________________\n",
      "conv2d_2 (Conv2D)            (None, 24, 24, 64)        18496     \n",
      "_________________________________________________________________\n",
      "max_pooling2d_1 (MaxPooling2 (None, 12, 12, 64)        0         \n",
      "_________________________________________________________________\n",
      "dropout_1 (Dropout)          (None, 12, 12, 64)        0         \n",
      "_________________________________________________________________\n",
      "flatten_1 (Flatten)          (None, 9216)              0         \n",
      "_________________________________________________________________\n",
      "dense_1 (Dense)              (None, 128)               1179776   \n",
      "_________________________________________________________________\n",
      "dropout_2 (Dropout)          (None, 128)               0         \n",
      "_________________________________________________________________\n",
      "dense_2 (Dense)              (None, 10)                1290      \n",
      "=================================================================\n",
      "Total params: 1,199,882\n",
      "Trainable params: 1,199,882\n",
      "Non-trainable params: 0\n",
      "_________________________________________________________________\n",
      "None\n"
     ]
    }
   ],
   "source": [
    "import keras\n",
    "from keras.models import Sequential\n",
    "from keras.layers import Dense, Dropout,Flatten\n",
    "from keras.layers import Conv2D,MaxPooling2D\n",
    "from keras.optimizers import Adam\n",
    "from keras import backend as k\n",
    "\n",
    "# create a model\n",
    "model = Sequential()\n",
    "model.add(Conv2D(32,kernel_size = (3,3),activation = 'relu',input_shape = input_shape))\n",
    "model.add(Conv2D(64,(3,3),activation = 'relu'))\n",
    "model.add(MaxPooling2D(pool_size = (2,2)))\n",
    "model.add(Dropout(0.25))\n",
    "model.add(Flatten())\n",
    "model.add(Dense(128,activation = 'relu'))\n",
    "model.add(Dropout(0.5))\n",
    "model.add(Dense(num_classes,activation = 'softmax'))\n",
    "model.compile(loss = 'categorical_crossentropy',optimizer = Adam(0.001),metrics = ['accuracy'])\n",
    "print(model.summary())"
   ]
  },
  {
   "cell_type": "markdown",
   "metadata": {},
   "source": [
    "### Step 5 - Train our Model\n",
    "- We place our formatted data as the inputs and set the batch size, number of epochs\n",
    "- We store our model's training results for plotting in future\n",
    "- We then use Kera's molel.evaluate function to output the model's fina performance. Here we are examing Test Loss and Test Accuracy"
   ]
  },
  {
   "cell_type": "code",
   "execution_count": null,
   "metadata": {},
   "outputs": [],
   "source": [
    "import numpy as np\n",
    "batch_size = 32\n",
    "epochs = 5\n",
    "history = model.fit(X_train,y_train,\n",
    "                    batch_size = batch_size,\n",
    "                    epochs = 4,\n",
    "                    verbose =1,\n",
    "                    validation_data = (X_test,y_test),verbose = 2)\n",
    "score = model.evaluate(X_test,y_test,verbose = 0)\n",
    "                    \n",
    "                   "
   ]
  },
  {
   "cell_type": "code",
   "execution_count": 17,
   "metadata": {},
   "outputs": [
    {
     "name": "stdout",
     "output_type": "stream",
     "text": [
      "test loss : 0.03359333070604189\n",
      "test accuracy :0.9887\n"
     ]
    }
   ],
   "source": [
    "print('test loss : ' + str(score[0]))\n",
    "print('test accuracy :' + str(score[1]))"
   ]
  },
  {
   "cell_type": "code",
   "execution_count": null,
   "metadata": {},
   "outputs": [],
   "source": []
  },
  {
   "cell_type": "markdown",
   "metadata": {},
   "source": [
    "### Step 6 - Ploting our Loss and Accuracy Charts"
   ]
  },
  {
   "cell_type": "code",
   "execution_count": 18,
   "metadata": {},
   "outputs": [
    {
     "data": {
      "image/png": "[encoded data removed]",
      "text/plain": [
       "<matplotlib.figure.Figure at 0x82dc8d0>"
      ]
     },
     "metadata": {},
     "output_type": "display_data"
    }
   ],
   "source": [
    "# Plotting our loss charts\n",
    "import matplotlib.pyplot as plt\n",
    "import numpy as np\n",
    "\n",
    "history_dict = history.history\n",
    "\n",
    "loss_values = history_dict['loss']\n",
    "val_loss_values = history_dict['val_loss']\n",
    "epochs = range(1, len(loss_values) + 1)\n",
    "\n",
    "line1 = plt.plot(epochs, val_loss_values, label='Validation/Test Loss')\n",
    "line2 = plt.plot(epochs, loss_values, label='Training Loss')\n",
    "plt.setp(line1, linewidth=2.0, marker = '+', markersize=10.0)\n",
    "plt.setp(line2, linewidth=2.0, marker = '4', markersize=10.0)\n",
    "plt.xlabel('Epochs') \n",
    "plt.ylabel('Loss')\n",
    "plt.grid(True)\n",
    "plt.legend()\n",
    "plt.show()"
   ]
  },
  {
   "cell_type": "markdown",
   "metadata": {},
   "source": [
    "### Step 6 - Ploting our Loss and Accuracy Charts"
   ]
  },
  {
   "cell_type": "code",
   "execution_count": 19,
   "metadata": {},
   "outputs": [
    {
     "data": {
      "image/png": "[encoded data removed]",
      "text/plain": [
       "<matplotlib.figure.Figure at 0x82dce80>"
      ]
     },
     "metadata": {},
     "output_type": "display_data"
    }
   ],
   "source": [
    "# Plotting our accuracy charts\n",
    "import matplotlib.pyplot as plt\n",
    "\n",
    "history_dict = history.history\n",
    "\n",
    "acc_values = history_dict['acc']\n",
    "val_acc_values = history_dict['val_acc']\n",
    "epochs = range(1, len(loss_values) + 1)\n",
    "\n",
    "line1 = plt.plot(epochs, val_acc_values, label='Validation/Test Accuracy')\n",
    "line2 = plt.plot(epochs, acc_values, label='Training Accuracy')\n",
    "plt.setp(line1, linewidth=2.0, marker = '+', markersize=10.0)\n",
    "plt.setp(line2, linewidth=2.0, marker = '4', markersize=10.0)\n",
    "plt.xlabel('Epochs') \n",
    "plt.ylabel('Accuracy')\n",
    "plt.grid(True)\n",
    "plt.legend()\n",
    "plt.show()"
   ]
  },
  {
   "cell_type": "markdown",
   "metadata": {},
   "source": [
    "### Step 7A - Saving our Model"
   ]
  },
  {
   "cell_type": "code",
   "execution_count": null,
   "metadata": {},
   "outputs": [],
   "source": [
    "model.save(\"/home/deeplearningcv/DeepLearningCV/Trained Models/8_mnist_simple_cnn_10_Epochs.h5\")\n"
   ]
  },
  {
   "cell_type": "code",
   "execution_count": null,
   "metadata": {},
   "outputs": [],
   "source": []
  },
  {
   "cell_type": "code",
   "execution_count": 21,
   "metadata": {},
   "outputs": [
    {
     "name": "stdout",
     "output_type": "stream",
     "text": [
      "2.220000000000004\n"
     ]
    }
   ],
   "source": [
    "import numpy as np\n",
    "a = np.absolute(2.220000000000004)\n",
    "print(a)"
   ]
  },
  {
   "cell_type": "markdown",
   "metadata": {},
   "source": [
    "# MNIST CONFUSION MATRIX ANALYSIS"
   ]
  },
  {
   "cell_type": "code",
   "execution_count": 27,
   "metadata": {},
   "outputs": [
    {
     "name": "stdout",
     "output_type": "stream",
     "text": [
      "             precision    recall  f1-score   support\n",
      "\n",
      "          0       1.00      0.98      0.99       980\n",
      "          1       0.99      1.00      1.00      1135\n",
      "          2       0.99      0.99      0.99      1032\n",
      "          3       0.99      1.00      0.99      1010\n",
      "          4       1.00      0.99      0.99       982\n",
      "          5       0.99      0.99      0.99       892\n",
      "          6       0.98      0.99      0.99       958\n",
      "          7       0.99      0.99      0.99      1028\n",
      "          8       0.99      0.98      0.99       974\n",
      "          9       0.98      0.99      0.98      1009\n",
      "\n",
      "avg / total       0.99      0.99      0.99     10000\n",
      "\n",
      "[[ 960    0    4    1    0    3    6    0    1    5]\n",
      " [   0 1131    1    0    0    1    2    0    0    0]\n",
      " [   0    2 1020    1    0    0    0    8    1    0]\n",
      " [   0    0    1 1006    0    2    0    0    1    0]\n",
      " [   0    0    0    0  969    0    3    0    0   10]\n",
      " [   0    0    0    7    0  882    2    0    0    1]\n",
      " [   1    2    1    0    1    4  949    0    0    0]\n",
      " [   0    3    5    0    0    0    0 1017    1    2]\n",
      " [   2    0    3    5    0    1    1    2  954    6]\n",
      " [   0    0    0    1    3    1    1    3    1  999]]\n"
     ]
    }
   ],
   "source": [
    "from sklearn.metrics import confusion_matrix,classification_report\n",
    "import numpy as np\n",
    "y_pred = model.predict_classes(X_test)\n",
    "print(classification_report(np.argmax(y_test,axis = 1),y_pred))\n",
    "print(confusion_matrix(np.argmax(y_test,axis = 1),y_pred))\n"
   ]
  },
  {
   "cell_type": "code",
   "execution_count": 32,
   "metadata": {},
   "outputs": [
    {
     "name": "stdout",
     "output_type": "stream",
     "text": [
      "indices of misclassified data: \n",
      " \n",
      "(array([ 321,  340,  543,  582,  659,  674,  717,  740,  881,  883,  924,\n",
      "        947, 1014, 1039, 1112, 1182, 1226, 1232, 1242, 1260, 1319, 1364,\n",
      "       1393, 1394, 1414, 1530, 1621, 1709, 1737, 1754, 1790, 1808, 1878,\n",
      "       1901, 1987, 2118, 2130, 2135, 2225, 2293, 2329, 2406, 2454, 2597,\n",
      "       2654, 2896, 2921, 2939, 2972, 3023, 3062, 3073, 3225, 3251, 3288,\n",
      "       3289, 3520, 3558, 3599, 3626, 3718, 3726, 3727, 3778, 3780, 3808,\n",
      "       3941, 4007, 4065, 4176, 4289, 4403, 4497, 4536, 4639, 4740, 4761,\n",
      "       4783, 4860, 5331, 5450, 5634, 5937, 5955, 6532, 6555, 6572, 6576,\n",
      "       6597, 6625, 6651, 6783, 7216, 8059, 8094, 8273, 8278, 8325, 8332,\n",
      "       8408, 8520, 9009, 9015, 9019, 9158, 9634, 9664, 9679, 9692, 9729,\n",
      "       9839, 9850, 9982], dtype=int64),)\n"
     ]
    },
    {
     "data": {
      "text/plain": [
       "10000"
      ]
     },
     "execution_count": 32,
     "metadata": {},
     "output_type": "execute_result"
    }
   ],
   "source": [
    "import numpy as np\n",
    "(x_train, y_train), (x_test, y_test)  = mnist.load_data()\n",
    "result = np.absolute(y_test - y_pred)\n",
    "print('indices of misclassified data: \\n \\n' + str(np.nonzero(result > 0)))\n",
    "len(result)"
   ]
  },
  {
   "cell_type": "code",
   "execution_count": 35,
   "metadata": {},
   "outputs": [],
   "source": [
    "result = [ 321,  340,  543,  582,  659,  674,  717,  740,  881,  883,  924,\n",
    "        947, 1014, 1039, 1112, 1182, 1226, 1232, 1242, 1260, 1319, 1364,\n",
    "       1393, 1394, 1414, 1530, 1621, 1709, 1737, 1754, 1790, 1808, 1878,\n",
    "       1901, 1987, 2118, 2130, 2135, 2225, 2293, 2329, 2406, 2454, 2597,\n",
    "       2654, 2896, 2921, 2939, 2972, 3023, 3062, 3073, 3225, 3251, 3288,\n",
    "       3289, 3520, 3558, 3599, 3626, 3718, 3726, 3727, 3778, 3780, 3808,\n",
    "       3941, 4007, 4065, 4176, 4289, 4403, 4497, 4536, 4639, 4740, 4761,\n",
    "       4783, 4860, 5331, 5450, 5634, 5937, 5955, 6532, 6555, 6572, 6576,\n",
    "       6597, 6625, 6651, 6783, 7216, 8059, 8094, 8273, 8278, 8325, 8332,\n",
    "       8408, 8520, 9009, 9015, 9019, 9158, 9634, 9664, 9679, 9692, 9729,\n",
    "       9839, 9850, 9982]"
   ]
  },
  {
   "cell_type": "code",
   "execution_count": 36,
   "metadata": {},
   "outputs": [
    {
     "data": {
      "text/plain": [
       "113"
      ]
     },
     "execution_count": 36,
     "metadata": {},
     "output_type": "execute_result"
    }
   ],
   "source": [
    "len(result)\n",
    "# 113 samples are misclassified"
   ]
  },
  {
   "cell_type": "code",
   "execution_count": 24,
   "metadata": {},
   "outputs": [
    {
     "data": {
      "image/png": "[encoded data removed]",
      "text/plain": [
       "<matplotlib.figure.Figure at 0x170eef60>"
      ]
     },
     "metadata": {},
     "output_type": "display_data"
    }
   ],
   "source": [
    "from keras.preprocessing import image\n",
    "import matplotlib.pyplot as plt\n",
    "import numpy as np\n",
    "from keras.datasets import mnist\n",
    "(x_train,y_train),(x_test,y_test) = mnist.load_data()\n",
    "\n",
    "#input_image_path = './datasets/catsvsdogs/validation/cats/cat074.jpg'\n",
    "\n",
    "# Show our input Image for Feature visualization\n",
    "img1 = x_train[0]\n",
    "plt.imshow(img1)\n",
    "\n",
    "#img_size = (x_train[0].shape[0],x_train[0].shape[1])\n",
    "# load imamge into a 4D Tensor, convert it to a numpy array and expand to 4 dim\n",
    "#img1 = image.load_img(img1, target_size = img_size)\n",
    "image_tensor = image.img_to_array(img1)\n",
    "#print(image_tensor.shape)\n",
    "image_tensor = image_tensor/255\n",
    "image_tensor = np.expand_dims(image_tensor, axis=0)\n",
    "#print(img.shape)"
   ]
  },
  {
   "cell_type": "markdown",
   "metadata": {},
   "source": [
    "## Creating a model from an input tensor and list of output tensors\n",
    "\n",
    "To extract feature maps we create a Keras model that takes batches of images as input and outputs the activations of all convolution and pooling layers. "
   ]
  },
  {
   "cell_type": "code",
   "execution_count": 26,
   "metadata": {},
   "outputs": [],
   "source": [
    "from keras import models\n",
    "\n",
    "# Extracts the top 8 layers\n",
    "layer_outputs = [layer.output for layer in model.layers[:9]]\n",
    "\n",
    "# Creates a model that returns these outputs given the model input\n",
    "activation_model = models.Model(inputs=model.input, outputs=layer_outputs)"
   ]
  },
  {
   "cell_type": "markdown",
   "metadata": {},
   "source": [
    "### Run our image through our model's prediction function"
   ]
  },
  {
   "cell_type": "code",
   "execution_count": 27,
   "metadata": {},
   "outputs": [],
   "source": [
    "activations = activation_model.predict(image_tensor)"
   ]
  },
  {
   "cell_type": "code",
   "execution_count": 28,
   "metadata": {},
   "outputs": [
    {
     "name": "stdout",
     "output_type": "stream",
     "text": [
      "(1, 26, 26, 32)\n"
     ]
    }
   ],
   "source": [
    "first_layer_activation = activations[0]\n",
    "print(first_layer_activation.shape)"
   ]
  },
  {
   "cell_type": "code",
   "execution_count": 33,
   "metadata": {},
   "outputs": [
    {
     "name": "stdout",
     "output_type": "stream",
     "text": [
      "(1, 12, 12, 64)\n"
     ]
    }
   ],
   "source": [
    "first_layer_activation = activations[2]\n",
    "print(first_layer_activation.shape)"
   ]
  },
  {
   "cell_type": "markdown",
   "metadata": {},
   "source": [
    "## Visualizing every layer activation"
   ]
  },
  {
   "cell_type": "code",
   "execution_count": 34,
   "metadata": {},
   "outputs": [
    {
     "name": "stderr",
     "output_type": "stream",
     "text": [
      "C:\\Users\\DELL\\Anaconda3\\lib\\site-packages\\ipykernel_launcher.py:24: RuntimeWarning: invalid value encountered in true_divide\n"
     ]
    },
    {
     "data": {
      "image/png": "[encoded data removed]",
      "text/plain": [
       "<matplotlib.figure.Figure at 0x17156da0>"
      ]
     },
     "metadata": {},
     "output_type": "display_data"
    },
    {
     "data": {
      "image/png": "[encoded data removed]",
      "text/plain": [
       "<matplotlib.figure.Figure at 0x173c1a58>"
      ]
     },
     "metadata": {},
     "output_type": "display_data"
    }
   ],
   "source": [
    "layer_names = []\n",
    "for layer in model.layers[:9]:\n",
    "    layer_names.append(layer.name)\n",
    "images_per_row = 16\n",
    "\n",
    "# Get CONV layers only\n",
    "conv_layer_names = []\n",
    "for layer_name in layer_names:\n",
    "    if 'conv2d' in layer_name:\n",
    "        conv_layer_names.append(layer_name)\n",
    "\n",
    "for layer_name, layer_activation in zip(conv_layer_names, activations):\n",
    "    n_features = layer_activation.shape[-1]\n",
    "    size = layer_activation.shape[1]\n",
    "    \n",
    "    n_cols = n_features // images_per_row\n",
    "    display_grid = np.zeros((size * n_cols, images_per_row * size))\n",
    "    \n",
    "    for col in range(n_cols):\n",
    "        for row in range(images_per_row):\n",
    "            channel_image = layer_activation[0,:, :,col * images_per_row + row]\n",
    "            \n",
    "            channel_image -= channel_image.mean()\n",
    "            channel_image /= channel_image.std()\n",
    "            channel_image *= 64\n",
    "            channel_image += 128\n",
    "            channel_image = np.clip(channel_image, 0, 255).astype('uint8')\n",
    "            display_grid[col * size : (col + 1) * size,\n",
    "            row * size : (row + 1) * size] = channel_image\n",
    "            \n",
    "    scale = 1. / size\n",
    "    plt.figure(figsize=(scale * display_grid.shape[1],\n",
    "    scale * display_grid.shape[0]))\n",
    "    plt.title(layer_name)\n",
    "    plt.grid(False)\n",
    "    plt.imshow(display_grid, aspect='auto', cmap='viridis')"
   ]
  },
  {
   "cell_type": "markdown",
   "metadata": {},
   "source": [
    "### Obersavations\n",
    "   \n",
    "- You an see that the first layers act mainly as different types of edge detectors and activations retain most of the input image.\n",
    "\n",
    "- As we go higher up the network to the 2nd and 3rd  layers we can see the activations become more abstract and harder to interpret visually. But you may notice they retain high level visual concepts such as the cata eyes or outline or even cat ears.\n",
    "\n",
    "- Many blank activations in the later deeper stages, this means that pattern encoded by those filters were not activated by the input image.\n"
   ]
  },
  {
   "cell_type": "code",
   "execution_count": null,
   "metadata": {},
   "outputs": [],
   "source": []
  }
 ],
 "metadata": {
  "kernelspec": {
   "display_name": "Python 3",
   "language": "python",
   "name": "python3"
  },
  "language_info": {
   "codemirror_mode": {
    "name": "ipython",
    "version": 3
   },
   "file_extension": ".py",
   "mimetype": "text/x-python",
   "name": "python",
   "nbconvert_exporter": "python",
   "pygments_lexer": "ipython3",
   "version": "3.6.4"
  }
 },
 "nbformat": 4,
 "nbformat_minor": 2
}
